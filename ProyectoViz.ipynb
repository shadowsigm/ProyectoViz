{
 "cells": [
  {
   "cell_type": "code",
   "execution_count": 51,
   "metadata": {},
   "outputs": [],
   "source": [
    "import pandas as pd\n",
    "import numpy as np\n",
    "import matplotlib.pyplot as plt"
   ]
  },
  {
   "cell_type": "code",
   "execution_count": 52,
   "metadata": {},
   "outputs": [],
   "source": [
    "df = pd.read_csv('Total Emissions Per Country (2000-2020).csv', sep = ';')"
   ]
  },
  {
   "cell_type": "code",
   "execution_count": 53,
   "metadata": {
    "scrolled": true
   },
   "outputs": [
    {
     "data": {
      "text/html": [
       "<div>\n",
       "<style scoped>\n",
       "    .dataframe tbody tr th:only-of-type {\n",
       "        vertical-align: middle;\n",
       "    }\n",
       "\n",
       "    .dataframe tbody tr th {\n",
       "        vertical-align: top;\n",
       "    }\n",
       "\n",
       "    .dataframe thead th {\n",
       "        text-align: right;\n",
       "    }\n",
       "</style>\n",
       "<table border=\"1\" class=\"dataframe\">\n",
       "  <thead>\n",
       "    <tr style=\"text-align: right;\">\n",
       "      <th></th>\n",
       "      <th>Area</th>\n",
       "      <th>Item</th>\n",
       "      <th>Element</th>\n",
       "      <th>Unit</th>\n",
       "      <th>2000</th>\n",
       "      <th>2001</th>\n",
       "      <th>2002</th>\n",
       "      <th>2003</th>\n",
       "      <th>2004</th>\n",
       "      <th>2005</th>\n",
       "      <th>...</th>\n",
       "      <th>2011</th>\n",
       "      <th>2012</th>\n",
       "      <th>2013</th>\n",
       "      <th>2014</th>\n",
       "      <th>2015</th>\n",
       "      <th>2016</th>\n",
       "      <th>2017</th>\n",
       "      <th>2018</th>\n",
       "      <th>2019</th>\n",
       "      <th>2020</th>\n",
       "    </tr>\n",
       "  </thead>\n",
       "  <tbody>\n",
       "    <tr>\n",
       "      <th>0</th>\n",
       "      <td>Afghanistan</td>\n",
       "      <td>Crop Residues</td>\n",
       "      <td>Direct emissions (N2O)</td>\n",
       "      <td>kilotonnes</td>\n",
       "      <td>0.520</td>\n",
       "      <td>0.5267</td>\n",
       "      <td>0.8200</td>\n",
       "      <td>0.9988</td>\n",
       "      <td>0.8225</td>\n",
       "      <td>1.1821</td>\n",
       "      <td>...</td>\n",
       "      <td>1.0321</td>\n",
       "      <td>1.3726</td>\n",
       "      <td>1.4018</td>\n",
       "      <td>1.4584</td>\n",
       "      <td>1.2424</td>\n",
       "      <td>1.1940</td>\n",
       "      <td>1.0617</td>\n",
       "      <td>0.8988</td>\n",
       "      <td>1.2176</td>\n",
       "      <td>1.3170</td>\n",
       "    </tr>\n",
       "    <tr>\n",
       "      <th>1</th>\n",
       "      <td>Afghanistan</td>\n",
       "      <td>Crop Residues</td>\n",
       "      <td>Indirect emissions (N2O)</td>\n",
       "      <td>kilotonnes</td>\n",
       "      <td>0.117</td>\n",
       "      <td>0.1185</td>\n",
       "      <td>0.1845</td>\n",
       "      <td>0.2247</td>\n",
       "      <td>0.1851</td>\n",
       "      <td>0.2660</td>\n",
       "      <td>...</td>\n",
       "      <td>0.2322</td>\n",
       "      <td>0.3088</td>\n",
       "      <td>0.3154</td>\n",
       "      <td>0.3281</td>\n",
       "      <td>0.2795</td>\n",
       "      <td>0.2687</td>\n",
       "      <td>0.2389</td>\n",
       "      <td>0.2022</td>\n",
       "      <td>0.2740</td>\n",
       "      <td>0.2963</td>\n",
       "    </tr>\n",
       "    <tr>\n",
       "      <th>2</th>\n",
       "      <td>Afghanistan</td>\n",
       "      <td>Crop Residues</td>\n",
       "      <td>Emissions (N2O)</td>\n",
       "      <td>kilotonnes</td>\n",
       "      <td>0.637</td>\n",
       "      <td>0.6452</td>\n",
       "      <td>1.0045</td>\n",
       "      <td>1.2235</td>\n",
       "      <td>1.0075</td>\n",
       "      <td>1.4481</td>\n",
       "      <td>...</td>\n",
       "      <td>1.2643</td>\n",
       "      <td>1.6815</td>\n",
       "      <td>1.7173</td>\n",
       "      <td>1.7865</td>\n",
       "      <td>1.5220</td>\n",
       "      <td>1.4627</td>\n",
       "      <td>1.3005</td>\n",
       "      <td>1.1011</td>\n",
       "      <td>1.4916</td>\n",
       "      <td>1.6133</td>\n",
       "    </tr>\n",
       "    <tr>\n",
       "      <th>3</th>\n",
       "      <td>Afghanistan</td>\n",
       "      <td>Crop Residues</td>\n",
       "      <td>Emissions (CO2eq) from N2O (AR5)</td>\n",
       "      <td>kilotonnes</td>\n",
       "      <td>168.807</td>\n",
       "      <td>170.9884</td>\n",
       "      <td>266.1975</td>\n",
       "      <td>324.2195</td>\n",
       "      <td>266.9995</td>\n",
       "      <td>383.7498</td>\n",
       "      <td>...</td>\n",
       "      <td>335.0379</td>\n",
       "      <td>445.5958</td>\n",
       "      <td>455.0727</td>\n",
       "      <td>473.4174</td>\n",
       "      <td>403.3181</td>\n",
       "      <td>387.6130</td>\n",
       "      <td>344.6447</td>\n",
       "      <td>291.7838</td>\n",
       "      <td>395.2689</td>\n",
       "      <td>427.5284</td>\n",
       "    </tr>\n",
       "    <tr>\n",
       "      <th>4</th>\n",
       "      <td>Afghanistan</td>\n",
       "      <td>Crop Residues</td>\n",
       "      <td>Emissions (CO2eq) (AR5)</td>\n",
       "      <td>kilotonnes</td>\n",
       "      <td>168.807</td>\n",
       "      <td>170.9884</td>\n",
       "      <td>266.1975</td>\n",
       "      <td>324.2195</td>\n",
       "      <td>266.9995</td>\n",
       "      <td>383.7498</td>\n",
       "      <td>...</td>\n",
       "      <td>335.0379</td>\n",
       "      <td>445.5958</td>\n",
       "      <td>455.0727</td>\n",
       "      <td>473.4174</td>\n",
       "      <td>403.3181</td>\n",
       "      <td>387.6130</td>\n",
       "      <td>344.6447</td>\n",
       "      <td>291.7838</td>\n",
       "      <td>395.2689</td>\n",
       "      <td>427.5284</td>\n",
       "    </tr>\n",
       "  </tbody>\n",
       "</table>\n",
       "<p>5 rows × 25 columns</p>\n",
       "</div>"
      ],
      "text/plain": [
       "          Area           Item                           Element        Unit  \\\n",
       "0  Afghanistan  Crop Residues            Direct emissions (N2O)  kilotonnes   \n",
       "1  Afghanistan  Crop Residues          Indirect emissions (N2O)  kilotonnes   \n",
       "2  Afghanistan  Crop Residues                   Emissions (N2O)  kilotonnes   \n",
       "3  Afghanistan  Crop Residues  Emissions (CO2eq) from N2O (AR5)  kilotonnes   \n",
       "4  Afghanistan  Crop Residues           Emissions (CO2eq) (AR5)  kilotonnes   \n",
       "\n",
       "      2000      2001      2002      2003      2004      2005  ...      2011  \\\n",
       "0    0.520    0.5267    0.8200    0.9988    0.8225    1.1821  ...    1.0321   \n",
       "1    0.117    0.1185    0.1845    0.2247    0.1851    0.2660  ...    0.2322   \n",
       "2    0.637    0.6452    1.0045    1.2235    1.0075    1.4481  ...    1.2643   \n",
       "3  168.807  170.9884  266.1975  324.2195  266.9995  383.7498  ...  335.0379   \n",
       "4  168.807  170.9884  266.1975  324.2195  266.9995  383.7498  ...  335.0379   \n",
       "\n",
       "       2012      2013      2014      2015      2016      2017      2018  \\\n",
       "0    1.3726    1.4018    1.4584    1.2424    1.1940    1.0617    0.8988   \n",
       "1    0.3088    0.3154    0.3281    0.2795    0.2687    0.2389    0.2022   \n",
       "2    1.6815    1.7173    1.7865    1.5220    1.4627    1.3005    1.1011   \n",
       "3  445.5958  455.0727  473.4174  403.3181  387.6130  344.6447  291.7838   \n",
       "4  445.5958  455.0727  473.4174  403.3181  387.6130  344.6447  291.7838   \n",
       "\n",
       "       2019      2020  \n",
       "0    1.2176    1.3170  \n",
       "1    0.2740    0.2963  \n",
       "2    1.4916    1.6133  \n",
       "3  395.2689  427.5284  \n",
       "4  395.2689  427.5284  \n",
       "\n",
       "[5 rows x 25 columns]"
      ]
     },
     "execution_count": 53,
     "metadata": {},
     "output_type": "execute_result"
    }
   ],
   "source": [
    "df.head(5)"
   ]
  },
  {
   "cell_type": "code",
   "execution_count": 54,
   "metadata": {},
   "outputs": [
    {
     "data": {
      "text/plain": [
       "(58765, 25)"
      ]
     },
     "execution_count": 54,
     "metadata": {},
     "output_type": "execute_result"
    }
   ],
   "source": [
    "df.shape"
   ]
  },
  {
   "cell_type": "code",
   "execution_count": 55,
   "metadata": {},
   "outputs": [
    {
     "name": "stdout",
     "output_type": "stream",
     "text": [
      "<class 'pandas.core.frame.DataFrame'>\n",
      "RangeIndex: 58765 entries, 0 to 58764\n",
      "Data columns (total 25 columns):\n",
      " #   Column   Non-Null Count  Dtype  \n",
      "---  ------   --------------  -----  \n",
      " 0   Area     58765 non-null  object \n",
      " 1   Item     58765 non-null  object \n",
      " 2   Element  58765 non-null  object \n",
      " 3   Unit     58765 non-null  object \n",
      " 4   2000     55577 non-null  float64\n",
      " 5   2001     54038 non-null  float64\n",
      " 6   2002     54137 non-null  float64\n",
      " 7   2003     54158 non-null  float64\n",
      " 8   2004     54163 non-null  float64\n",
      " 9   2005     54431 non-null  float64\n",
      " 10  2006     54473 non-null  float64\n",
      " 11  2007     54315 non-null  float64\n",
      " 12  2008     54296 non-null  float64\n",
      " 13  2009     54283 non-null  float64\n",
      " 14  2010     54714 non-null  float64\n",
      " 15  2011     54136 non-null  float64\n",
      " 16  2012     54614 non-null  float64\n",
      " 17  2013     54501 non-null  float64\n",
      " 18  2014     54379 non-null  float64\n",
      " 19  2015     54289 non-null  float64\n",
      " 20  2016     54252 non-null  float64\n",
      " 21  2017     54076 non-null  float64\n",
      " 22  2018     54024 non-null  float64\n",
      " 23  2019     53988 non-null  float64\n",
      " 24  2020     53671 non-null  float64\n",
      "dtypes: float64(21), object(4)\n",
      "memory usage: 11.2+ MB\n"
     ]
    }
   ],
   "source": [
    "df.info()"
   ]
  },
  {
   "cell_type": "code",
   "execution_count": 80,
   "metadata": {},
   "outputs": [],
   "source": [
    "# En este momento no es posible eliminar las filas que posean valores nulos, ya que se hacerlo, perderíamos todos los demás datos por este motivo.\n",
    "# Se volverá a analizar posteriormente el cómo trabajar los valores nulos/NaN"
   ]
  },
  {
   "cell_type": "code",
   "execution_count": 56,
   "metadata": {},
   "outputs": [
    {
     "data": {
      "text/html": [
       "<div>\n",
       "<style scoped>\n",
       "    .dataframe tbody tr th:only-of-type {\n",
       "        vertical-align: middle;\n",
       "    }\n",
       "\n",
       "    .dataframe tbody tr th {\n",
       "        vertical-align: top;\n",
       "    }\n",
       "\n",
       "    .dataframe thead th {\n",
       "        text-align: right;\n",
       "    }\n",
       "</style>\n",
       "<table border=\"1\" class=\"dataframe\">\n",
       "  <thead>\n",
       "    <tr style=\"text-align: right;\">\n",
       "      <th></th>\n",
       "      <th>2000</th>\n",
       "      <th>2001</th>\n",
       "      <th>2002</th>\n",
       "      <th>2003</th>\n",
       "      <th>2004</th>\n",
       "      <th>2005</th>\n",
       "      <th>2006</th>\n",
       "      <th>2007</th>\n",
       "      <th>2008</th>\n",
       "      <th>2009</th>\n",
       "      <th>...</th>\n",
       "      <th>2011</th>\n",
       "      <th>2012</th>\n",
       "      <th>2013</th>\n",
       "      <th>2014</th>\n",
       "      <th>2015</th>\n",
       "      <th>2016</th>\n",
       "      <th>2017</th>\n",
       "      <th>2018</th>\n",
       "      <th>2019</th>\n",
       "      <th>2020</th>\n",
       "    </tr>\n",
       "  </thead>\n",
       "  <tbody>\n",
       "    <tr>\n",
       "      <th>count</th>\n",
       "      <td>5.557700e+04</td>\n",
       "      <td>5.403800e+04</td>\n",
       "      <td>5.413700e+04</td>\n",
       "      <td>5.415800e+04</td>\n",
       "      <td>5.416300e+04</td>\n",
       "      <td>5.443100e+04</td>\n",
       "      <td>5.447300e+04</td>\n",
       "      <td>5.431500e+04</td>\n",
       "      <td>5.429600e+04</td>\n",
       "      <td>5.428300e+04</td>\n",
       "      <td>...</td>\n",
       "      <td>5.413600e+04</td>\n",
       "      <td>5.461400e+04</td>\n",
       "      <td>5.450100e+04</td>\n",
       "      <td>5.437900e+04</td>\n",
       "      <td>5.428900e+04</td>\n",
       "      <td>5.425200e+04</td>\n",
       "      <td>5.407600e+04</td>\n",
       "      <td>5.402400e+04</td>\n",
       "      <td>5.398800e+04</td>\n",
       "      <td>5.367100e+04</td>\n",
       "    </tr>\n",
       "    <tr>\n",
       "      <th>mean</th>\n",
       "      <td>3.856126e+04</td>\n",
       "      <td>3.904216e+04</td>\n",
       "      <td>4.028410e+04</td>\n",
       "      <td>4.100938e+04</td>\n",
       "      <td>4.286727e+04</td>\n",
       "      <td>4.314952e+04</td>\n",
       "      <td>4.444425e+04</td>\n",
       "      <td>4.471660e+04</td>\n",
       "      <td>4.537510e+04</td>\n",
       "      <td>4.548273e+04</td>\n",
       "      <td>...</td>\n",
       "      <td>4.661655e+04</td>\n",
       "      <td>4.684830e+04</td>\n",
       "      <td>4.726650e+04</td>\n",
       "      <td>4.815619e+04</td>\n",
       "      <td>4.861396e+04</td>\n",
       "      <td>4.859484e+04</td>\n",
       "      <td>4.928708e+04</td>\n",
       "      <td>5.020469e+04</td>\n",
       "      <td>5.077654e+04</td>\n",
       "      <td>4.934009e+04</td>\n",
       "    </tr>\n",
       "    <tr>\n",
       "      <th>std</th>\n",
       "      <td>5.154896e+05</td>\n",
       "      <td>5.198948e+05</td>\n",
       "      <td>5.330651e+05</td>\n",
       "      <td>5.516273e+05</td>\n",
       "      <td>5.770778e+05</td>\n",
       "      <td>5.899925e+05</td>\n",
       "      <td>6.103802e+05</td>\n",
       "      <td>6.215176e+05</td>\n",
       "      <td>6.353495e+05</td>\n",
       "      <td>6.342332e+05</td>\n",
       "      <td>...</td>\n",
       "      <td>6.749568e+05</td>\n",
       "      <td>6.836862e+05</td>\n",
       "      <td>6.885162e+05</td>\n",
       "      <td>7.002371e+05</td>\n",
       "      <td>7.023532e+05</td>\n",
       "      <td>7.003692e+05</td>\n",
       "      <td>7.107106e+05</td>\n",
       "      <td>7.267194e+05</td>\n",
       "      <td>7.328659e+05</td>\n",
       "      <td>7.085584e+05</td>\n",
       "    </tr>\n",
       "    <tr>\n",
       "      <th>min</th>\n",
       "      <td>-3.477871e+06</td>\n",
       "      <td>-3.148175e+06</td>\n",
       "      <td>-3.148175e+06</td>\n",
       "      <td>-3.148175e+06</td>\n",
       "      <td>-3.148175e+06</td>\n",
       "      <td>-3.379504e+06</td>\n",
       "      <td>-3.183029e+06</td>\n",
       "      <td>-3.148175e+06</td>\n",
       "      <td>-3.206885e+06</td>\n",
       "      <td>-3.284492e+06</td>\n",
       "      <td>...</td>\n",
       "      <td>-3.966553e+06</td>\n",
       "      <td>-3.966553e+06</td>\n",
       "      <td>-3.966553e+06</td>\n",
       "      <td>-3.966553e+06</td>\n",
       "      <td>-3.966553e+06</td>\n",
       "      <td>-3.331180e+06</td>\n",
       "      <td>-2.696392e+06</td>\n",
       "      <td>-2.702046e+06</td>\n",
       "      <td>-2.636985e+06</td>\n",
       "      <td>-2.636985e+06</td>\n",
       "    </tr>\n",
       "    <tr>\n",
       "      <th>25%</th>\n",
       "      <td>8.800000e-02</td>\n",
       "      <td>5.930000e-02</td>\n",
       "      <td>6.430000e-02</td>\n",
       "      <td>7.172500e-02</td>\n",
       "      <td>6.730000e-02</td>\n",
       "      <td>7.500000e-02</td>\n",
       "      <td>7.510000e-02</td>\n",
       "      <td>8.380000e-02</td>\n",
       "      <td>7.950000e-02</td>\n",
       "      <td>8.520000e-02</td>\n",
       "      <td>...</td>\n",
       "      <td>9.037500e-02</td>\n",
       "      <td>9.400000e-02</td>\n",
       "      <td>8.600000e-02</td>\n",
       "      <td>9.400000e-02</td>\n",
       "      <td>9.900000e-02</td>\n",
       "      <td>9.840000e-02</td>\n",
       "      <td>1.024000e-01</td>\n",
       "      <td>9.540000e-02</td>\n",
       "      <td>1.056750e-01</td>\n",
       "      <td>9.850000e-02</td>\n",
       "    </tr>\n",
       "    <tr>\n",
       "      <th>50%</th>\n",
       "      <td>1.818250e+01</td>\n",
       "      <td>1.578825e+01</td>\n",
       "      <td>1.662830e+01</td>\n",
       "      <td>1.739455e+01</td>\n",
       "      <td>1.733800e+01</td>\n",
       "      <td>1.839900e+01</td>\n",
       "      <td>1.794510e+01</td>\n",
       "      <td>1.874600e+01</td>\n",
       "      <td>1.917250e+01</td>\n",
       "      <td>1.928380e+01</td>\n",
       "      <td>...</td>\n",
       "      <td>2.015420e+01</td>\n",
       "      <td>2.029590e+01</td>\n",
       "      <td>2.051560e+01</td>\n",
       "      <td>2.026050e+01</td>\n",
       "      <td>2.099980e+01</td>\n",
       "      <td>2.172340e+01</td>\n",
       "      <td>2.151655e+01</td>\n",
       "      <td>2.103045e+01</td>\n",
       "      <td>2.225050e+01</td>\n",
       "      <td>2.240500e+01</td>\n",
       "    </tr>\n",
       "    <tr>\n",
       "      <th>75%</th>\n",
       "      <td>9.975307e+02</td>\n",
       "      <td>9.487612e+02</td>\n",
       "      <td>9.850304e+02</td>\n",
       "      <td>1.024513e+03</td>\n",
       "      <td>1.029695e+03</td>\n",
       "      <td>1.071787e+03</td>\n",
       "      <td>1.052052e+03</td>\n",
       "      <td>1.073137e+03</td>\n",
       "      <td>1.077510e+03</td>\n",
       "      <td>1.081210e+03</td>\n",
       "      <td>...</td>\n",
       "      <td>1.110414e+03</td>\n",
       "      <td>1.128912e+03</td>\n",
       "      <td>1.140294e+03</td>\n",
       "      <td>1.141328e+03</td>\n",
       "      <td>1.161278e+03</td>\n",
       "      <td>1.193939e+03</td>\n",
       "      <td>1.177659e+03</td>\n",
       "      <td>1.166767e+03</td>\n",
       "      <td>1.180875e+03</td>\n",
       "      <td>1.192541e+03</td>\n",
       "    </tr>\n",
       "    <tr>\n",
       "      <th>max</th>\n",
       "      <td>3.880104e+07</td>\n",
       "      <td>3.858777e+07</td>\n",
       "      <td>3.977286e+07</td>\n",
       "      <td>4.107819e+07</td>\n",
       "      <td>4.314763e+07</td>\n",
       "      <td>4.407000e+07</td>\n",
       "      <td>4.578420e+07</td>\n",
       "      <td>4.632066e+07</td>\n",
       "      <td>4.721273e+07</td>\n",
       "      <td>4.713105e+07</td>\n",
       "      <td>...</td>\n",
       "      <td>4.913564e+07</td>\n",
       "      <td>4.995763e+07</td>\n",
       "      <td>5.014924e+07</td>\n",
       "      <td>5.110725e+07</td>\n",
       "      <td>5.127620e+07</td>\n",
       "      <td>5.182366e+07</td>\n",
       "      <td>5.252879e+07</td>\n",
       "      <td>5.370033e+07</td>\n",
       "      <td>5.414186e+07</td>\n",
       "      <td>5.201086e+07</td>\n",
       "    </tr>\n",
       "  </tbody>\n",
       "</table>\n",
       "<p>8 rows × 21 columns</p>\n",
       "</div>"
      ],
      "text/plain": [
       "               2000          2001          2002          2003          2004  \\\n",
       "count  5.557700e+04  5.403800e+04  5.413700e+04  5.415800e+04  5.416300e+04   \n",
       "mean   3.856126e+04  3.904216e+04  4.028410e+04  4.100938e+04  4.286727e+04   \n",
       "std    5.154896e+05  5.198948e+05  5.330651e+05  5.516273e+05  5.770778e+05   \n",
       "min   -3.477871e+06 -3.148175e+06 -3.148175e+06 -3.148175e+06 -3.148175e+06   \n",
       "25%    8.800000e-02  5.930000e-02  6.430000e-02  7.172500e-02  6.730000e-02   \n",
       "50%    1.818250e+01  1.578825e+01  1.662830e+01  1.739455e+01  1.733800e+01   \n",
       "75%    9.975307e+02  9.487612e+02  9.850304e+02  1.024513e+03  1.029695e+03   \n",
       "max    3.880104e+07  3.858777e+07  3.977286e+07  4.107819e+07  4.314763e+07   \n",
       "\n",
       "               2005          2006          2007          2008          2009  \\\n",
       "count  5.443100e+04  5.447300e+04  5.431500e+04  5.429600e+04  5.428300e+04   \n",
       "mean   4.314952e+04  4.444425e+04  4.471660e+04  4.537510e+04  4.548273e+04   \n",
       "std    5.899925e+05  6.103802e+05  6.215176e+05  6.353495e+05  6.342332e+05   \n",
       "min   -3.379504e+06 -3.183029e+06 -3.148175e+06 -3.206885e+06 -3.284492e+06   \n",
       "25%    7.500000e-02  7.510000e-02  8.380000e-02  7.950000e-02  8.520000e-02   \n",
       "50%    1.839900e+01  1.794510e+01  1.874600e+01  1.917250e+01  1.928380e+01   \n",
       "75%    1.071787e+03  1.052052e+03  1.073137e+03  1.077510e+03  1.081210e+03   \n",
       "max    4.407000e+07  4.578420e+07  4.632066e+07  4.721273e+07  4.713105e+07   \n",
       "\n",
       "       ...          2011          2012          2013          2014  \\\n",
       "count  ...  5.413600e+04  5.461400e+04  5.450100e+04  5.437900e+04   \n",
       "mean   ...  4.661655e+04  4.684830e+04  4.726650e+04  4.815619e+04   \n",
       "std    ...  6.749568e+05  6.836862e+05  6.885162e+05  7.002371e+05   \n",
       "min    ... -3.966553e+06 -3.966553e+06 -3.966553e+06 -3.966553e+06   \n",
       "25%    ...  9.037500e-02  9.400000e-02  8.600000e-02  9.400000e-02   \n",
       "50%    ...  2.015420e+01  2.029590e+01  2.051560e+01  2.026050e+01   \n",
       "75%    ...  1.110414e+03  1.128912e+03  1.140294e+03  1.141328e+03   \n",
       "max    ...  4.913564e+07  4.995763e+07  5.014924e+07  5.110725e+07   \n",
       "\n",
       "               2015          2016          2017          2018          2019  \\\n",
       "count  5.428900e+04  5.425200e+04  5.407600e+04  5.402400e+04  5.398800e+04   \n",
       "mean   4.861396e+04  4.859484e+04  4.928708e+04  5.020469e+04  5.077654e+04   \n",
       "std    7.023532e+05  7.003692e+05  7.107106e+05  7.267194e+05  7.328659e+05   \n",
       "min   -3.966553e+06 -3.331180e+06 -2.696392e+06 -2.702046e+06 -2.636985e+06   \n",
       "25%    9.900000e-02  9.840000e-02  1.024000e-01  9.540000e-02  1.056750e-01   \n",
       "50%    2.099980e+01  2.172340e+01  2.151655e+01  2.103045e+01  2.225050e+01   \n",
       "75%    1.161278e+03  1.193939e+03  1.177659e+03  1.166767e+03  1.180875e+03   \n",
       "max    5.127620e+07  5.182366e+07  5.252879e+07  5.370033e+07  5.414186e+07   \n",
       "\n",
       "               2020  \n",
       "count  5.367100e+04  \n",
       "mean   4.934009e+04  \n",
       "std    7.085584e+05  \n",
       "min   -2.636985e+06  \n",
       "25%    9.850000e-02  \n",
       "50%    2.240500e+01  \n",
       "75%    1.192541e+03  \n",
       "max    5.201086e+07  \n",
       "\n",
       "[8 rows x 21 columns]"
      ]
     },
     "execution_count": 56,
     "metadata": {},
     "output_type": "execute_result"
    }
   ],
   "source": [
    "df.describe()\n",
    "# Se reconocen emisiones negativas, por ende, el dataset no sólo contiene emisores de contaminación, sino que agentes aliviadores de esta, como bosques."
   ]
  },
  {
   "cell_type": "code",
   "execution_count": 57,
   "metadata": {},
   "outputs": [
    {
     "data": {
      "text/plain": [
       "['Crop Residues',\n",
       " 'Rice Cultivation',\n",
       " 'Burning - Crop residues',\n",
       " 'Enteric Fermentation',\n",
       " 'Manure Management',\n",
       " 'Manure left on Pasture',\n",
       " 'Manure applied to Soils',\n",
       " 'Synthetic Fertilizers',\n",
       " 'Drained organic soils',\n",
       " 'Drained organic soils (CO2)',\n",
       " 'Drained organic soils (N2O)',\n",
       " 'On-farm energy use',\n",
       " 'Forestland',\n",
       " 'Net Forest conversion',\n",
       " 'Savanna fires',\n",
       " 'Fires in organic soils',\n",
       " 'Forest fires',\n",
       " 'Fires in humid tropical forests',\n",
       " 'Waste - agri-food systems',\n",
       " 'Fertilizers Manufacturing',\n",
       " 'On-farm electricity use',\n",
       " 'Food Processing',\n",
       " 'Food Packaging',\n",
       " 'Food Retail',\n",
       " 'Food Household Consumption',\n",
       " 'Food Transport',\n",
       " 'Energy',\n",
       " 'IPPU',\n",
       " 'Waste',\n",
       " 'Other',\n",
       " 'Farm-gate emissions',\n",
       " 'Land Use change',\n",
       " 'Emissions on agricultural land',\n",
       " 'Pre- and post- production',\n",
       " 'Agri-food systems',\n",
       " 'IPCC Agriculture',\n",
       " 'Agricultural Soils',\n",
       " 'LULUCF',\n",
       " 'AFOLU',\n",
       " 'All sectors with LULUCF',\n",
       " 'All sectors without LULUCF',\n",
       " 'International bunkers']"
      ]
     },
     "execution_count": 57,
     "metadata": {},
     "output_type": "execute_result"
    }
   ],
   "source": [
    "df['Item'].unique().tolist()"
   ]
  },
  {
   "cell_type": "code",
   "execution_count": 58,
   "metadata": {
    "scrolled": true
   },
   "outputs": [
    {
     "data": {
      "text/plain": [
       "['Direct emissions (N2O)',\n",
       " 'Indirect emissions (N2O)',\n",
       " 'Emissions (N2O)',\n",
       " 'Emissions (CO2eq) from N2O (AR5)',\n",
       " 'Emissions (CO2eq) (AR5)',\n",
       " 'Emissions (CH4)',\n",
       " 'Emissions (CO2eq) from CH4 (AR5)',\n",
       " 'Emissions (CO2)',\n",
       " 'Emissions (CO2eq) from F-gases (AR5)']"
      ]
     },
     "execution_count": 58,
     "metadata": {},
     "output_type": "execute_result"
    }
   ],
   "source": [
    "df['Element'].unique().tolist()"
   ]
  },
  {
   "cell_type": "code",
   "execution_count": 25,
   "metadata": {},
   "outputs": [],
   "source": [
    "# Aseguramos que los nombres de las columnas estén en formato string\n",
    "df.columns = df.columns.map(str)"
   ]
  },
  {
   "cell_type": "code",
   "execution_count": 59,
   "metadata": {},
   "outputs": [
    {
     "data": {
      "text/plain": [
       "['kilotonnes']"
      ]
     },
     "execution_count": 59,
     "metadata": {},
     "output_type": "execute_result"
    }
   ],
   "source": [
    "df['Unit'].unique().tolist()"
   ]
  },
  {
   "cell_type": "code",
   "execution_count": 61,
   "metadata": {},
   "outputs": [],
   "source": [
    "# Eliminamos la columna de unidad, ya que el valor es único y no aporta valor\n",
    "df0 = df.drop([\"Unit\"], axis=1)"
   ]
  },
  {
   "cell_type": "code",
   "execution_count": 13,
   "metadata": {},
   "outputs": [],
   "source": [
    "# Quiénes son los paises que mas emiten\n",
    "# Qué emiten\n",
    "# Comparación entre paises\n",
    "# Comparacion en el mapa\n",
    "# Evolucion en el tiempo de las emisiones globales"
   ]
  },
  {
   "cell_type": "code",
   "execution_count": 82,
   "metadata": {},
   "outputs": [
    {
     "data": {
      "text/html": [
       "<div>\n",
       "<style scoped>\n",
       "    .dataframe tbody tr th:only-of-type {\n",
       "        vertical-align: middle;\n",
       "    }\n",
       "\n",
       "    .dataframe tbody tr th {\n",
       "        vertical-align: top;\n",
       "    }\n",
       "\n",
       "    .dataframe thead th {\n",
       "        text-align: right;\n",
       "    }\n",
       "</style>\n",
       "<table border=\"1\" class=\"dataframe\">\n",
       "  <thead>\n",
       "    <tr style=\"text-align: right;\">\n",
       "      <th></th>\n",
       "      <th>Area</th>\n",
       "      <th>Item</th>\n",
       "      <th>Element</th>\n",
       "      <th>Anho</th>\n",
       "      <th>Emisiones [kT]</th>\n",
       "    </tr>\n",
       "  </thead>\n",
       "  <tbody>\n",
       "    <tr>\n",
       "      <th>0</th>\n",
       "      <td>Afghanistan</td>\n",
       "      <td>Crop Residues</td>\n",
       "      <td>Direct emissions (N2O)</td>\n",
       "      <td>2000</td>\n",
       "      <td>0.520</td>\n",
       "    </tr>\n",
       "    <tr>\n",
       "      <th>1</th>\n",
       "      <td>Afghanistan</td>\n",
       "      <td>Crop Residues</td>\n",
       "      <td>Indirect emissions (N2O)</td>\n",
       "      <td>2000</td>\n",
       "      <td>0.117</td>\n",
       "    </tr>\n",
       "    <tr>\n",
       "      <th>2</th>\n",
       "      <td>Afghanistan</td>\n",
       "      <td>Crop Residues</td>\n",
       "      <td>Emissions (N2O)</td>\n",
       "      <td>2000</td>\n",
       "      <td>0.637</td>\n",
       "    </tr>\n",
       "    <tr>\n",
       "      <th>3</th>\n",
       "      <td>Afghanistan</td>\n",
       "      <td>Crop Residues</td>\n",
       "      <td>Emissions (CO2eq) from N2O (AR5)</td>\n",
       "      <td>2000</td>\n",
       "      <td>168.807</td>\n",
       "    </tr>\n",
       "    <tr>\n",
       "      <th>4</th>\n",
       "      <td>Afghanistan</td>\n",
       "      <td>Crop Residues</td>\n",
       "      <td>Emissions (CO2eq) (AR5)</td>\n",
       "      <td>2000</td>\n",
       "      <td>168.807</td>\n",
       "    </tr>\n",
       "  </tbody>\n",
       "</table>\n",
       "</div>"
      ],
      "text/plain": [
       "          Area           Item                           Element  Anho  \\\n",
       "0  Afghanistan  Crop Residues            Direct emissions (N2O)  2000   \n",
       "1  Afghanistan  Crop Residues          Indirect emissions (N2O)  2000   \n",
       "2  Afghanistan  Crop Residues                   Emissions (N2O)  2000   \n",
       "3  Afghanistan  Crop Residues  Emissions (CO2eq) from N2O (AR5)  2000   \n",
       "4  Afghanistan  Crop Residues           Emissions (CO2eq) (AR5)  2000   \n",
       "\n",
       "   Emisiones [kT]  \n",
       "0           0.520  \n",
       "1           0.117  \n",
       "2           0.637  \n",
       "3         168.807  \n",
       "4         168.807  "
      ]
     },
     "execution_count": 82,
     "metadata": {},
     "output_type": "execute_result"
    }
   ],
   "source": [
    "years = [str(i) for i in range(2000,2021)]\n",
    "df1 = df0.melt(id_vars = ['Area','Item','Element'],value_vars=years, var_name='Anho', value_name='Emisiones [kT]')\n",
    "df1.head(5)"
   ]
  },
  {
   "cell_type": "code",
   "execution_count": 83,
   "metadata": {},
   "outputs": [
    {
     "name": "stdout",
     "output_type": "stream",
     "text": [
      "<class 'pandas.core.frame.DataFrame'>\n",
      "RangeIndex: 1234065 entries, 0 to 1234064\n",
      "Data columns (total 5 columns):\n",
      " #   Column          Non-Null Count    Dtype  \n",
      "---  ------          --------------    -----  \n",
      " 0   Area            1234065 non-null  object \n",
      " 1   Item            1234065 non-null  object \n",
      " 2   Element         1234065 non-null  object \n",
      " 3   Anho            1234065 non-null  object \n",
      " 4   Emisiones [kT]  1140515 non-null  float64\n",
      "dtypes: float64(1), object(4)\n",
      "memory usage: 47.1+ MB\n"
     ]
    }
   ],
   "source": [
    "df1.info()"
   ]
  },
  {
   "cell_type": "code",
   "execution_count": 86,
   "metadata": {},
   "outputs": [
    {
     "data": {
      "text/plain": [
       "93550"
      ]
     },
     "execution_count": 86,
     "metadata": {},
     "output_type": "execute_result"
    }
   ],
   "source": [
    "df1[\"Emisiones [kT]\"].isna().sum()"
   ]
  },
  {
   "cell_type": "code",
   "execution_count": 88,
   "metadata": {},
   "outputs": [
    {
     "name": "stdout",
     "output_type": "stream",
     "text": [
      "Del total de 1234065 registros, 93550 corresponden a valores nulos. Estos corresponden al 7.58% del total de datos. Es por esto que los eliminaremos.\n"
     ]
    }
   ],
   "source": [
    "print(\"Del total de \" + str(len(df1.index)) + \" registros, \" + str(df1[\"Emisiones [kT]\"].isna().sum()) + \" corresponden a valores nulos. Estos corresponden al \" + str(round(((100*df1[\"Emisiones [kT]\"].isna().sum())/len(df1.index)), 2)) + \"% del total de datos. Es por esto que los eliminaremos.\")"
   ]
  },
  {
   "cell_type": "code",
   "execution_count": 90,
   "metadata": {},
   "outputs": [
    {
     "name": "stdout",
     "output_type": "stream",
     "text": [
      "<class 'pandas.core.frame.DataFrame'>\n",
      "Int64Index: 1140515 entries, 0 to 1234064\n",
      "Data columns (total 5 columns):\n",
      " #   Column          Non-Null Count    Dtype  \n",
      "---  ------          --------------    -----  \n",
      " 0   Area            1140515 non-null  object \n",
      " 1   Item            1140515 non-null  object \n",
      " 2   Element         1140515 non-null  object \n",
      " 3   Anho            1140515 non-null  object \n",
      " 4   Emisiones [kT]  1140515 non-null  float64\n",
      "dtypes: float64(1), object(4)\n",
      "memory usage: 52.2+ MB\n"
     ]
    }
   ],
   "source": [
    "# Eliminamos los valores nulos\n",
    "df2 = df1.dropna()\n",
    "df2.info()"
   ]
  },
  {
   "attachments": {},
   "cell_type": "markdown",
   "metadata": {},
   "source": [
    "# Limpieza de datos lista. df0 tiene los datos limpios, df1 contiene todos los datos disponibles con las columas de años como una sola columna, y df2 tiene los datos sin nulos. Cada una en base a la anterior."
   ]
  },
  {
   "cell_type": "code",
   "execution_count": 95,
   "metadata": {},
   "outputs": [],
   "source": [
    "# df agrupado por año y area\n",
    "df_group_by_area_wy = df2[[\"Area\", \"Anho\", \"Emisiones [kT]\"]].groupby(by=[\"Area\", \"Anho\"]).sum().reset_index()\n",
    "\n",
    "# df agrupado sin año\n",
    "df_group_by_area_woy = df2[[\"Area\", \"Emisiones [kT]\"]].groupby(by=[\"Area\"]).sum().reset_index()"
   ]
  },
  {
   "cell_type": "code",
   "execution_count": 96,
   "metadata": {},
   "outputs": [
    {
     "data": {
      "text/html": [
       "<div>\n",
       "<style scoped>\n",
       "    .dataframe tbody tr th:only-of-type {\n",
       "        vertical-align: middle;\n",
       "    }\n",
       "\n",
       "    .dataframe tbody tr th {\n",
       "        vertical-align: top;\n",
       "    }\n",
       "\n",
       "    .dataframe thead th {\n",
       "        text-align: right;\n",
       "    }\n",
       "</style>\n",
       "<table border=\"1\" class=\"dataframe\">\n",
       "  <thead>\n",
       "    <tr style=\"text-align: right;\">\n",
       "      <th></th>\n",
       "      <th>Area</th>\n",
       "      <th>Anho</th>\n",
       "      <th>Emisiones [kT]</th>\n",
       "    </tr>\n",
       "  </thead>\n",
       "  <tbody>\n",
       "    <tr>\n",
       "      <th>0</th>\n",
       "      <td>Afghanistan</td>\n",
       "      <td>2000</td>\n",
       "      <td>205885.2201</td>\n",
       "    </tr>\n",
       "    <tr>\n",
       "      <th>1</th>\n",
       "      <td>Afghanistan</td>\n",
       "      <td>2001</td>\n",
       "      <td>196907.2112</td>\n",
       "    </tr>\n",
       "    <tr>\n",
       "      <th>2</th>\n",
       "      <td>Afghanistan</td>\n",
       "      <td>2002</td>\n",
       "      <td>241671.6773</td>\n",
       "    </tr>\n",
       "    <tr>\n",
       "      <th>3</th>\n",
       "      <td>Afghanistan</td>\n",
       "      <td>2003</td>\n",
       "      <td>250927.9447</td>\n",
       "    </tr>\n",
       "    <tr>\n",
       "      <th>4</th>\n",
       "      <td>Afghanistan</td>\n",
       "      <td>2004</td>\n",
       "      <td>249268.9710</td>\n",
       "    </tr>\n",
       "  </tbody>\n",
       "</table>\n",
       "</div>"
      ],
      "text/plain": [
       "          Area  Anho  Emisiones [kT]\n",
       "0  Afghanistan  2000     205885.2201\n",
       "1  Afghanistan  2001     196907.2112\n",
       "2  Afghanistan  2002     241671.6773\n",
       "3  Afghanistan  2003     250927.9447\n",
       "4  Afghanistan  2004     249268.9710"
      ]
     },
     "execution_count": 96,
     "metadata": {},
     "output_type": "execute_result"
    }
   ],
   "source": [
    "df_group_by_area_wy.head(5)"
   ]
  },
  {
   "cell_type": "code",
   "execution_count": 97,
   "metadata": {},
   "outputs": [
    {
     "data": {
      "text/html": [
       "<div>\n",
       "<style scoped>\n",
       "    .dataframe tbody tr th:only-of-type {\n",
       "        vertical-align: middle;\n",
       "    }\n",
       "\n",
       "    .dataframe tbody tr th {\n",
       "        vertical-align: top;\n",
       "    }\n",
       "\n",
       "    .dataframe thead th {\n",
       "        text-align: right;\n",
       "    }\n",
       "</style>\n",
       "<table border=\"1\" class=\"dataframe\">\n",
       "  <thead>\n",
       "    <tr style=\"text-align: right;\">\n",
       "      <th></th>\n",
       "      <th>Area</th>\n",
       "      <th>Emisiones [kT]</th>\n",
       "    </tr>\n",
       "  </thead>\n",
       "  <tbody>\n",
       "    <tr>\n",
       "      <th>0</th>\n",
       "      <td>Afghanistan</td>\n",
       "      <td>7.104258e+06</td>\n",
       "    </tr>\n",
       "    <tr>\n",
       "      <th>1</th>\n",
       "      <td>Africa</td>\n",
       "      <td>9.899268e+08</td>\n",
       "    </tr>\n",
       "    <tr>\n",
       "      <th>2</th>\n",
       "      <td>Albania</td>\n",
       "      <td>2.115320e+06</td>\n",
       "    </tr>\n",
       "    <tr>\n",
       "      <th>3</th>\n",
       "      <td>Algeria</td>\n",
       "      <td>3.390865e+07</td>\n",
       "    </tr>\n",
       "    <tr>\n",
       "      <th>4</th>\n",
       "      <td>American Samoa</td>\n",
       "      <td>-5.304318e+03</td>\n",
       "    </tr>\n",
       "  </tbody>\n",
       "</table>\n",
       "</div>"
      ],
      "text/plain": [
       "             Area  Emisiones [kT]\n",
       "0     Afghanistan    7.104258e+06\n",
       "1          Africa    9.899268e+08\n",
       "2         Albania    2.115320e+06\n",
       "3         Algeria    3.390865e+07\n",
       "4  American Samoa   -5.304318e+03"
      ]
     },
     "execution_count": 97,
     "metadata": {},
     "output_type": "execute_result"
    }
   ],
   "source": [
    "df_group_by_area_woy.head(5)"
   ]
  },
  {
   "attachments": {},
   "cell_type": "markdown",
   "metadata": {},
   "source": [
    "# Aqui quedé"
   ]
  },
  {
   "cell_type": "markdown",
   "metadata": {},
   "source": [
    "a)  gráficas de series de tiempo\n",
    "\n",
    "b)  gráficas comparativas de dos variables en el tiempo \n",
    "\n",
    "c)  gráficas de distribución estadística \n",
    "\n",
    "d)  gráficas de composición \n",
    "\n",
    "e)  gráficas de correlación \n",
    "\n",
    "f)  nube de palabras clave \n",
    "\n",
    "g)  mapas con marcadores o coropléticos, de acuerdo al nivel de granularidad de los mapas \n",
    "\n"
   ]
  },
  {
   "cell_type": "raw",
   "metadata": {},
   "source": [
    "Cuales son los paises y tipos de actividad que mas emisiones han generado durante los ultimos 20 años\n",
    "\n",
    "a) serie de tiempo emisiones a lo largo de los años\n",
    "b) comparacion de tipo de emisiones global\n",
    "c) \n",
    "d) Waffle con vacas por pais de sudamerica\n",
    "e) correlacion entre \n",
    "g) Mapa mundi \n",
    "\n",
    "Caracterizar en funcion de las emisiones y zona geografica (mapa de chile)\n",
    "\n"
   ]
  },
  {
   "cell_type": "code",
   "execution_count": 14,
   "metadata": {},
   "outputs": [],
   "source": [
    "df_Chile = df[df['Area']=='Chile']"
   ]
  },
  {
   "cell_type": "code",
   "execution_count": 15,
   "metadata": {},
   "outputs": [
    {
     "data": {
      "text/plain": [
       "array(['Direct emissions (N2O)', 'Indirect emissions (N2O)',\n",
       "       'Emissions (N2O)', 'Emissions (CO2eq) from N2O (AR5)',\n",
       "       'Emissions (CO2eq) (AR5)', 'Emissions (CH4)',\n",
       "       'Emissions (CO2eq) from CH4 (AR5)', 'Emissions (CO2)',\n",
       "       'Emissions (CO2eq) from F-gases (AR5)'], dtype=object)"
      ]
     },
     "execution_count": 15,
     "metadata": {},
     "output_type": "execute_result"
    }
   ],
   "source": [
    "df_Chile['Element'].unique()"
   ]
  },
  {
   "cell_type": "code",
   "execution_count": 16,
   "metadata": {},
   "outputs": [
    {
     "data": {
      "text/plain": [
       "array(['Crop Residues', 'Rice Cultivation', 'Burning - Crop residues',\n",
       "       'Enteric Fermentation', 'Manure Management',\n",
       "       'Manure left on Pasture', 'Manure applied to Soils',\n",
       "       'Synthetic Fertilizers', 'Drained organic soils',\n",
       "       'Drained organic soils (CO2)', 'Drained organic soils (N2O)',\n",
       "       'On-farm energy use', 'Forestland', 'Net Forest conversion',\n",
       "       'Savanna fires', 'Fires in organic soils', 'Forest fires',\n",
       "       'Fires in humid tropical forests', 'Waste - agri-food systems',\n",
       "       'Fertilizers Manufacturing', 'On-farm electricity use',\n",
       "       'Food Processing', 'Food Packaging', 'Food Retail',\n",
       "       'Food Household Consumption', 'Food Transport', 'Energy', 'IPPU',\n",
       "       'Waste', 'Other', 'Farm-gate emissions', 'Land Use change',\n",
       "       'Emissions on agricultural land', 'Pre- and post- production',\n",
       "       'Agri-food systems', 'IPCC Agriculture', 'Agricultural Soils',\n",
       "       'LULUCF', 'AFOLU', 'All sectors with LULUCF',\n",
       "       'All sectors without LULUCF'], dtype=object)"
      ]
     },
     "execution_count": 16,
     "metadata": {},
     "output_type": "execute_result"
    }
   ],
   "source": [
    "df_Chile['Item'].unique()"
   ]
  },
  {
   "cell_type": "code",
   "execution_count": null,
   "metadata": {},
   "outputs": [],
   "source": []
  }
 ],
 "metadata": {
  "kernelspec": {
   "display_name": "Python 3",
   "language": "python",
   "name": "python3"
  },
  "language_info": {
   "codemirror_mode": {
    "name": "ipython",
    "version": 3
   },
   "file_extension": ".py",
   "mimetype": "text/x-python",
   "name": "python",
   "nbconvert_exporter": "python",
   "pygments_lexer": "ipython3",
   "version": "3.11.2"
  }
 },
 "nbformat": 4,
 "nbformat_minor": 4
}
