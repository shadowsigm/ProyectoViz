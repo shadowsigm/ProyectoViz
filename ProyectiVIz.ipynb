{
 "cells": [
  {
   "cell_type": "code",
   "execution_count": 1,
   "metadata": {},
   "outputs": [],
   "source": [
    "import pandas as pd"
   ]
  },
  {
   "cell_type": "code",
   "execution_count": 4,
   "metadata": {},
   "outputs": [],
   "source": [
    "df = pd.read_csv('Total Emissions Per Country (2000-2020).csv', sep = ';')"
   ]
  },
  {
   "cell_type": "code",
   "execution_count": 6,
   "metadata": {
    "scrolled": true
   },
   "outputs": [
    {
     "data": {
      "text/html": [
       "<div>\n",
       "<style scoped>\n",
       "    .dataframe tbody tr th:only-of-type {\n",
       "        vertical-align: middle;\n",
       "    }\n",
       "\n",
       "    .dataframe tbody tr th {\n",
       "        vertical-align: top;\n",
       "    }\n",
       "\n",
       "    .dataframe thead th {\n",
       "        text-align: right;\n",
       "    }\n",
       "</style>\n",
       "<table border=\"1\" class=\"dataframe\">\n",
       "  <thead>\n",
       "    <tr style=\"text-align: right;\">\n",
       "      <th></th>\n",
       "      <th>Area</th>\n",
       "      <th>Item</th>\n",
       "      <th>Element</th>\n",
       "      <th>Unit</th>\n",
       "      <th>2000</th>\n",
       "      <th>2001</th>\n",
       "      <th>2002</th>\n",
       "      <th>2003</th>\n",
       "      <th>2004</th>\n",
       "      <th>2005</th>\n",
       "      <th>...</th>\n",
       "      <th>2011</th>\n",
       "      <th>2012</th>\n",
       "      <th>2013</th>\n",
       "      <th>2014</th>\n",
       "      <th>2015</th>\n",
       "      <th>2016</th>\n",
       "      <th>2017</th>\n",
       "      <th>2018</th>\n",
       "      <th>2019</th>\n",
       "      <th>2020</th>\n",
       "    </tr>\n",
       "  </thead>\n",
       "  <tbody>\n",
       "    <tr>\n",
       "      <th>0</th>\n",
       "      <td>Afghanistan</td>\n",
       "      <td>Crop Residues</td>\n",
       "      <td>Direct emissions (N2O)</td>\n",
       "      <td>kilotonnes</td>\n",
       "      <td>0.520</td>\n",
       "      <td>0.5267</td>\n",
       "      <td>0.8200</td>\n",
       "      <td>0.9988</td>\n",
       "      <td>0.8225</td>\n",
       "      <td>1.1821</td>\n",
       "      <td>...</td>\n",
       "      <td>1.0321</td>\n",
       "      <td>1.3726</td>\n",
       "      <td>1.4018</td>\n",
       "      <td>1.4584</td>\n",
       "      <td>1.2424</td>\n",
       "      <td>1.1940</td>\n",
       "      <td>1.0617</td>\n",
       "      <td>0.8988</td>\n",
       "      <td>1.2176</td>\n",
       "      <td>1.3170</td>\n",
       "    </tr>\n",
       "    <tr>\n",
       "      <th>1</th>\n",
       "      <td>Afghanistan</td>\n",
       "      <td>Crop Residues</td>\n",
       "      <td>Indirect emissions (N2O)</td>\n",
       "      <td>kilotonnes</td>\n",
       "      <td>0.117</td>\n",
       "      <td>0.1185</td>\n",
       "      <td>0.1845</td>\n",
       "      <td>0.2247</td>\n",
       "      <td>0.1851</td>\n",
       "      <td>0.2660</td>\n",
       "      <td>...</td>\n",
       "      <td>0.2322</td>\n",
       "      <td>0.3088</td>\n",
       "      <td>0.3154</td>\n",
       "      <td>0.3281</td>\n",
       "      <td>0.2795</td>\n",
       "      <td>0.2687</td>\n",
       "      <td>0.2389</td>\n",
       "      <td>0.2022</td>\n",
       "      <td>0.2740</td>\n",
       "      <td>0.2963</td>\n",
       "    </tr>\n",
       "    <tr>\n",
       "      <th>2</th>\n",
       "      <td>Afghanistan</td>\n",
       "      <td>Crop Residues</td>\n",
       "      <td>Emissions (N2O)</td>\n",
       "      <td>kilotonnes</td>\n",
       "      <td>0.637</td>\n",
       "      <td>0.6452</td>\n",
       "      <td>1.0045</td>\n",
       "      <td>1.2235</td>\n",
       "      <td>1.0075</td>\n",
       "      <td>1.4481</td>\n",
       "      <td>...</td>\n",
       "      <td>1.2643</td>\n",
       "      <td>1.6815</td>\n",
       "      <td>1.7173</td>\n",
       "      <td>1.7865</td>\n",
       "      <td>1.5220</td>\n",
       "      <td>1.4627</td>\n",
       "      <td>1.3005</td>\n",
       "      <td>1.1011</td>\n",
       "      <td>1.4916</td>\n",
       "      <td>1.6133</td>\n",
       "    </tr>\n",
       "    <tr>\n",
       "      <th>3</th>\n",
       "      <td>Afghanistan</td>\n",
       "      <td>Crop Residues</td>\n",
       "      <td>Emissions (CO2eq) from N2O (AR5)</td>\n",
       "      <td>kilotonnes</td>\n",
       "      <td>168.807</td>\n",
       "      <td>170.9884</td>\n",
       "      <td>266.1975</td>\n",
       "      <td>324.2195</td>\n",
       "      <td>266.9995</td>\n",
       "      <td>383.7498</td>\n",
       "      <td>...</td>\n",
       "      <td>335.0379</td>\n",
       "      <td>445.5958</td>\n",
       "      <td>455.0727</td>\n",
       "      <td>473.4174</td>\n",
       "      <td>403.3181</td>\n",
       "      <td>387.6130</td>\n",
       "      <td>344.6447</td>\n",
       "      <td>291.7838</td>\n",
       "      <td>395.2689</td>\n",
       "      <td>427.5284</td>\n",
       "    </tr>\n",
       "    <tr>\n",
       "      <th>4</th>\n",
       "      <td>Afghanistan</td>\n",
       "      <td>Crop Residues</td>\n",
       "      <td>Emissions (CO2eq) (AR5)</td>\n",
       "      <td>kilotonnes</td>\n",
       "      <td>168.807</td>\n",
       "      <td>170.9884</td>\n",
       "      <td>266.1975</td>\n",
       "      <td>324.2195</td>\n",
       "      <td>266.9995</td>\n",
       "      <td>383.7498</td>\n",
       "      <td>...</td>\n",
       "      <td>335.0379</td>\n",
       "      <td>445.5958</td>\n",
       "      <td>455.0727</td>\n",
       "      <td>473.4174</td>\n",
       "      <td>403.3181</td>\n",
       "      <td>387.6130</td>\n",
       "      <td>344.6447</td>\n",
       "      <td>291.7838</td>\n",
       "      <td>395.2689</td>\n",
       "      <td>427.5284</td>\n",
       "    </tr>\n",
       "  </tbody>\n",
       "</table>\n",
       "<p>5 rows × 25 columns</p>\n",
       "</div>"
      ],
      "text/plain": [
       "          Area           Item                           Element        Unit  \\\n",
       "0  Afghanistan  Crop Residues            Direct emissions (N2O)  kilotonnes   \n",
       "1  Afghanistan  Crop Residues          Indirect emissions (N2O)  kilotonnes   \n",
       "2  Afghanistan  Crop Residues                   Emissions (N2O)  kilotonnes   \n",
       "3  Afghanistan  Crop Residues  Emissions (CO2eq) from N2O (AR5)  kilotonnes   \n",
       "4  Afghanistan  Crop Residues           Emissions (CO2eq) (AR5)  kilotonnes   \n",
       "\n",
       "      2000      2001      2002      2003      2004      2005  ...      2011  \\\n",
       "0    0.520    0.5267    0.8200    0.9988    0.8225    1.1821  ...    1.0321   \n",
       "1    0.117    0.1185    0.1845    0.2247    0.1851    0.2660  ...    0.2322   \n",
       "2    0.637    0.6452    1.0045    1.2235    1.0075    1.4481  ...    1.2643   \n",
       "3  168.807  170.9884  266.1975  324.2195  266.9995  383.7498  ...  335.0379   \n",
       "4  168.807  170.9884  266.1975  324.2195  266.9995  383.7498  ...  335.0379   \n",
       "\n",
       "       2012      2013      2014      2015      2016      2017      2018  \\\n",
       "0    1.3726    1.4018    1.4584    1.2424    1.1940    1.0617    0.8988   \n",
       "1    0.3088    0.3154    0.3281    0.2795    0.2687    0.2389    0.2022   \n",
       "2    1.6815    1.7173    1.7865    1.5220    1.4627    1.3005    1.1011   \n",
       "3  445.5958  455.0727  473.4174  403.3181  387.6130  344.6447  291.7838   \n",
       "4  445.5958  455.0727  473.4174  403.3181  387.6130  344.6447  291.7838   \n",
       "\n",
       "       2019      2020  \n",
       "0    1.2176    1.3170  \n",
       "1    0.2740    0.2963  \n",
       "2    1.4916    1.6133  \n",
       "3  395.2689  427.5284  \n",
       "4  395.2689  427.5284  \n",
       "\n",
       "[5 rows x 25 columns]"
      ]
     },
     "execution_count": 6,
     "metadata": {},
     "output_type": "execute_result"
    }
   ],
   "source": [
    "df.head()"
   ]
  },
  {
   "cell_type": "code",
   "execution_count": 10,
   "metadata": {},
   "outputs": [
    {
     "data": {
      "text/plain": [
       "(58765, 25)"
      ]
     },
     "execution_count": 10,
     "metadata": {},
     "output_type": "execute_result"
    }
   ],
   "source": [
    "df.shape"
   ]
  },
  {
   "cell_type": "code",
   "execution_count": 8,
   "metadata": {},
   "outputs": [
    {
     "name": "stdout",
     "output_type": "stream",
     "text": [
      "<class 'pandas.core.frame.DataFrame'>\n",
      "RangeIndex: 58765 entries, 0 to 58764\n",
      "Data columns (total 25 columns):\n",
      " #   Column   Non-Null Count  Dtype  \n",
      "---  ------   --------------  -----  \n",
      " 0   Area     58765 non-null  object \n",
      " 1   Item     58765 non-null  object \n",
      " 2   Element  58765 non-null  object \n",
      " 3   Unit     58765 non-null  object \n",
      " 4   2000     55577 non-null  float64\n",
      " 5   2001     54038 non-null  float64\n",
      " 6   2002     54137 non-null  float64\n",
      " 7   2003     54158 non-null  float64\n",
      " 8   2004     54163 non-null  float64\n",
      " 9   2005     54431 non-null  float64\n",
      " 10  2006     54473 non-null  float64\n",
      " 11  2007     54315 non-null  float64\n",
      " 12  2008     54296 non-null  float64\n",
      " 13  2009     54283 non-null  float64\n",
      " 14  2010     54714 non-null  float64\n",
      " 15  2011     54136 non-null  float64\n",
      " 16  2012     54614 non-null  float64\n",
      " 17  2013     54501 non-null  float64\n",
      " 18  2014     54379 non-null  float64\n",
      " 19  2015     54289 non-null  float64\n",
      " 20  2016     54252 non-null  float64\n",
      " 21  2017     54076 non-null  float64\n",
      " 22  2018     54024 non-null  float64\n",
      " 23  2019     53988 non-null  float64\n",
      " 24  2020     53671 non-null  float64\n",
      "dtypes: float64(21), object(4)\n",
      "memory usage: 11.2+ MB\n"
     ]
    }
   ],
   "source": [
    "df.info()"
   ]
  },
  {
   "cell_type": "code",
   "execution_count": 11,
   "metadata": {},
   "outputs": [],
   "source": [
    "#no se borran filas porque no nomas, y si no te gusta ya tu sabes"
   ]
  },
  {
   "cell_type": "code",
   "execution_count": 12,
   "metadata": {},
   "outputs": [
    {
     "data": {
      "text/plain": [
       "array(['Crop Residues', 'Rice Cultivation', 'Burning - Crop residues',\n",
       "       'Enteric Fermentation', 'Manure Management',\n",
       "       'Manure left on Pasture', 'Manure applied to Soils',\n",
       "       'Synthetic Fertilizers', 'Drained organic soils',\n",
       "       'Drained organic soils (CO2)', 'Drained organic soils (N2O)',\n",
       "       'On-farm energy use', 'Forestland', 'Net Forest conversion',\n",
       "       'Savanna fires', 'Fires in organic soils', 'Forest fires',\n",
       "       'Fires in humid tropical forests', 'Waste - agri-food systems',\n",
       "       'Fertilizers Manufacturing', 'On-farm electricity use',\n",
       "       'Food Processing', 'Food Packaging', 'Food Retail',\n",
       "       'Food Household Consumption', 'Food Transport', 'Energy', 'IPPU',\n",
       "       'Waste', 'Other', 'Farm-gate emissions', 'Land Use change',\n",
       "       'Emissions on agricultural land', 'Pre- and post- production',\n",
       "       'Agri-food systems', 'IPCC Agriculture', 'Agricultural Soils',\n",
       "       'LULUCF', 'AFOLU', 'All sectors with LULUCF',\n",
       "       'All sectors without LULUCF', 'International bunkers'],\n",
       "      dtype=object)"
      ]
     },
     "execution_count": 12,
     "metadata": {},
     "output_type": "execute_result"
    }
   ],
   "source": [
    "df['Item'].unique()"
   ]
  },
  {
   "cell_type": "code",
   "execution_count": 13,
   "metadata": {
    "scrolled": true
   },
   "outputs": [
    {
     "data": {
      "text/plain": [
       "array(['Direct emissions (N2O)', 'Indirect emissions (N2O)',\n",
       "       'Emissions (N2O)', 'Emissions (CO2eq) from N2O (AR5)',\n",
       "       'Emissions (CO2eq) (AR5)', 'Emissions (CH4)',\n",
       "       'Emissions (CO2eq) from CH4 (AR5)', 'Emissions (CO2)',\n",
       "       'Emissions (CO2eq) from F-gases (AR5)'], dtype=object)"
      ]
     },
     "execution_count": 13,
     "metadata": {},
     "output_type": "execute_result"
    }
   ],
   "source": [
    "df['Element'].unique()"
   ]
  },
  {
   "cell_type": "code",
   "execution_count": 14,
   "metadata": {},
   "outputs": [
    {
     "data": {
      "text/plain": [
       "array(['kilotonnes'], dtype=object)"
      ]
     },
     "execution_count": 14,
     "metadata": {},
     "output_type": "execute_result"
    }
   ],
   "source": [
    "df['Unit'].unique()"
   ]
  },
  {
   "cell_type": "code",
   "execution_count": null,
   "metadata": {},
   "outputs": [],
   "source": [
    "# Quiénes son los paises que mas emiten\n",
    "# Qué emiten\n",
    "# Comparación entre paises\n",
    "# Comparacion en el mapa\n",
    "# Evolucion en el tiempo de las emisiones globales"
   ]
  },
  {
   "cell_type": "markdown",
   "metadata": {},
   "source": [
    "a)  gráficas de series de tiempo\n",
    "\n",
    "b)  gráficas comparativas de dos variables en el tiempo \n",
    "\n",
    "c)  gráficas de distribución estadística \n",
    "\n",
    "d)  gráficas de composición \n",
    "\n",
    "e)  gráficas de correlación \n",
    "\n",
    "f)  nube de palabras clave \n",
    "\n",
    "g)  mapas con marcadores o coropléticos, de acuerdo al nivel de granularidad de los mapas \n",
    "\n"
   ]
  },
  {
   "cell_type": "raw",
   "metadata": {},
   "source": [
    "Cuales son los paises y tipos de actividad que mas emisiones han generado durante los ultimos 20 años\n",
    "\n",
    "a) serie de tiempo emisiones a lo largo de los años\n",
    "b) comparacion de tipo de emisiones global\n",
    "c) \n",
    "d) Waffle con vacas por pais de sudamerica\n",
    "e) correlacion entre \n",
    "g) Mapa mundi \n",
    "\n",
    "Caracterizar en funcion de las emisiones y zona geografica (mapa de chile)\n",
    "\n"
   ]
  },
  {
   "cell_type": "code",
   "execution_count": 17,
   "metadata": {},
   "outputs": [],
   "source": [
    "df_Chile = df[df['Area']=='Chile']"
   ]
  },
  {
   "cell_type": "code",
   "execution_count": 18,
   "metadata": {},
   "outputs": [
    {
     "data": {
      "text/plain": [
       "array(['Direct emissions (N2O)', 'Indirect emissions (N2O)',\n",
       "       'Emissions (N2O)', 'Emissions (CO2eq) from N2O (AR5)',\n",
       "       'Emissions (CO2eq) (AR5)', 'Emissions (CH4)',\n",
       "       'Emissions (CO2eq) from CH4 (AR5)', 'Emissions (CO2)',\n",
       "       'Emissions (CO2eq) from F-gases (AR5)'], dtype=object)"
      ]
     },
     "execution_count": 18,
     "metadata": {},
     "output_type": "execute_result"
    }
   ],
   "source": [
    "df_Chile['Element'].unique()"
   ]
  },
  {
   "cell_type": "code",
   "execution_count": 19,
   "metadata": {},
   "outputs": [
    {
     "data": {
      "text/plain": [
       "array(['Crop Residues', 'Rice Cultivation', 'Burning - Crop residues',\n",
       "       'Enteric Fermentation', 'Manure Management',\n",
       "       'Manure left on Pasture', 'Manure applied to Soils',\n",
       "       'Synthetic Fertilizers', 'Drained organic soils',\n",
       "       'Drained organic soils (CO2)', 'Drained organic soils (N2O)',\n",
       "       'On-farm energy use', 'Forestland', 'Net Forest conversion',\n",
       "       'Savanna fires', 'Fires in organic soils', 'Forest fires',\n",
       "       'Fires in humid tropical forests', 'Waste - agri-food systems',\n",
       "       'Fertilizers Manufacturing', 'On-farm electricity use',\n",
       "       'Food Processing', 'Food Packaging', 'Food Retail',\n",
       "       'Food Household Consumption', 'Food Transport', 'Energy', 'IPPU',\n",
       "       'Waste', 'Other', 'Farm-gate emissions', 'Land Use change',\n",
       "       'Emissions on agricultural land', 'Pre- and post- production',\n",
       "       'Agri-food systems', 'IPCC Agriculture', 'Agricultural Soils',\n",
       "       'LULUCF', 'AFOLU', 'All sectors with LULUCF',\n",
       "       'All sectors without LULUCF'], dtype=object)"
      ]
     },
     "execution_count": 19,
     "metadata": {},
     "output_type": "execute_result"
    }
   ],
   "source": [
    "df_Chile['Item'].unique()"
   ]
  },
  {
   "cell_type": "code",
   "execution_count": null,
   "metadata": {},
   "outputs": [],
   "source": []
  }
 ],
 "metadata": {
  "kernelspec": {
   "display_name": "Python 3",
   "language": "python",
   "name": "python3"
  },
  "language_info": {
   "codemirror_mode": {
    "name": "ipython",
    "version": 3
   },
   "file_extension": ".py",
   "mimetype": "text/x-python",
   "name": "python",
   "nbconvert_exporter": "python",
   "pygments_lexer": "ipython3",
   "version": "3.8.5"
  }
 },
 "nbformat": 4,
 "nbformat_minor": 4
}
